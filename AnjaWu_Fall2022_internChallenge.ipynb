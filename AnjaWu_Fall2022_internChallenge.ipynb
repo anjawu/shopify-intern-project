{
 "cells": [
  {
   "cell_type": "code",
   "execution_count": 132,
   "id": "3cbfa6b5",
   "metadata": {},
   "outputs": [],
   "source": [
    "# import dataframe packages\n",
    "import pandas as pd\n",
    "import numpy as np\n",
    "\n",
    "# import visualization packages\n",
    "import matplotlib.pyplot as plt\n",
    "import seaborn as sb"
   ]
  },
  {
   "cell_type": "code",
   "execution_count": 97,
   "id": "a0dc0a9a",
   "metadata": {},
   "outputs": [
    {
     "data": {
      "text/html": [
       "<div>\n",
       "<style scoped>\n",
       "    .dataframe tbody tr th:only-of-type {\n",
       "        vertical-align: middle;\n",
       "    }\n",
       "\n",
       "    .dataframe tbody tr th {\n",
       "        vertical-align: top;\n",
       "    }\n",
       "\n",
       "    .dataframe thead th {\n",
       "        text-align: right;\n",
       "    }\n",
       "</style>\n",
       "<table border=\"1\" class=\"dataframe\">\n",
       "  <thead>\n",
       "    <tr style=\"text-align: right;\">\n",
       "      <th></th>\n",
       "      <th>order_id</th>\n",
       "      <th>shop_id</th>\n",
       "      <th>user_id</th>\n",
       "      <th>order_amount</th>\n",
       "      <th>total_items</th>\n",
       "      <th>payment_method</th>\n",
       "      <th>created_at</th>\n",
       "    </tr>\n",
       "  </thead>\n",
       "  <tbody>\n",
       "    <tr>\n",
       "      <th>0</th>\n",
       "      <td>1</td>\n",
       "      <td>53</td>\n",
       "      <td>746</td>\n",
       "      <td>224</td>\n",
       "      <td>2</td>\n",
       "      <td>cash</td>\n",
       "      <td>2017-03-13 12:36:56</td>\n",
       "    </tr>\n",
       "    <tr>\n",
       "      <th>1</th>\n",
       "      <td>2</td>\n",
       "      <td>92</td>\n",
       "      <td>925</td>\n",
       "      <td>90</td>\n",
       "      <td>1</td>\n",
       "      <td>cash</td>\n",
       "      <td>2017-03-03 17:38:52</td>\n",
       "    </tr>\n",
       "    <tr>\n",
       "      <th>2</th>\n",
       "      <td>3</td>\n",
       "      <td>44</td>\n",
       "      <td>861</td>\n",
       "      <td>144</td>\n",
       "      <td>1</td>\n",
       "      <td>cash</td>\n",
       "      <td>2017-03-14 4:23:56</td>\n",
       "    </tr>\n",
       "    <tr>\n",
       "      <th>3</th>\n",
       "      <td>4</td>\n",
       "      <td>18</td>\n",
       "      <td>935</td>\n",
       "      <td>156</td>\n",
       "      <td>1</td>\n",
       "      <td>credit_card</td>\n",
       "      <td>2017-03-26 12:43:37</td>\n",
       "    </tr>\n",
       "    <tr>\n",
       "      <th>4</th>\n",
       "      <td>5</td>\n",
       "      <td>18</td>\n",
       "      <td>883</td>\n",
       "      <td>156</td>\n",
       "      <td>1</td>\n",
       "      <td>credit_card</td>\n",
       "      <td>2017-03-01 4:35:11</td>\n",
       "    </tr>\n",
       "    <tr>\n",
       "      <th>5</th>\n",
       "      <td>6</td>\n",
       "      <td>58</td>\n",
       "      <td>882</td>\n",
       "      <td>138</td>\n",
       "      <td>1</td>\n",
       "      <td>credit_card</td>\n",
       "      <td>2017-03-14 15:25:01</td>\n",
       "    </tr>\n",
       "    <tr>\n",
       "      <th>6</th>\n",
       "      <td>7</td>\n",
       "      <td>87</td>\n",
       "      <td>915</td>\n",
       "      <td>149</td>\n",
       "      <td>1</td>\n",
       "      <td>cash</td>\n",
       "      <td>2017-03-01 21:37:57</td>\n",
       "    </tr>\n",
       "    <tr>\n",
       "      <th>7</th>\n",
       "      <td>8</td>\n",
       "      <td>22</td>\n",
       "      <td>761</td>\n",
       "      <td>292</td>\n",
       "      <td>2</td>\n",
       "      <td>cash</td>\n",
       "      <td>2017-03-08 2:05:38</td>\n",
       "    </tr>\n",
       "    <tr>\n",
       "      <th>8</th>\n",
       "      <td>9</td>\n",
       "      <td>64</td>\n",
       "      <td>914</td>\n",
       "      <td>266</td>\n",
       "      <td>2</td>\n",
       "      <td>debit</td>\n",
       "      <td>2017-03-17 20:56:50</td>\n",
       "    </tr>\n",
       "    <tr>\n",
       "      <th>9</th>\n",
       "      <td>10</td>\n",
       "      <td>52</td>\n",
       "      <td>788</td>\n",
       "      <td>146</td>\n",
       "      <td>1</td>\n",
       "      <td>credit_card</td>\n",
       "      <td>2017-03-30 21:08:26</td>\n",
       "    </tr>\n",
       "  </tbody>\n",
       "</table>\n",
       "</div>"
      ],
      "text/plain": [
       "   order_id  shop_id  user_id  order_amount  total_items payment_method  \\\n",
       "0         1       53      746           224            2           cash   \n",
       "1         2       92      925            90            1           cash   \n",
       "2         3       44      861           144            1           cash   \n",
       "3         4       18      935           156            1    credit_card   \n",
       "4         5       18      883           156            1    credit_card   \n",
       "5         6       58      882           138            1    credit_card   \n",
       "6         7       87      915           149            1           cash   \n",
       "7         8       22      761           292            2           cash   \n",
       "8         9       64      914           266            2          debit   \n",
       "9        10       52      788           146            1    credit_card   \n",
       "\n",
       "            created_at  \n",
       "0  2017-03-13 12:36:56  \n",
       "1  2017-03-03 17:38:52  \n",
       "2   2017-03-14 4:23:56  \n",
       "3  2017-03-26 12:43:37  \n",
       "4   2017-03-01 4:35:11  \n",
       "5  2017-03-14 15:25:01  \n",
       "6  2017-03-01 21:37:57  \n",
       "7   2017-03-08 2:05:38  \n",
       "8  2017-03-17 20:56:50  \n",
       "9  2017-03-30 21:08:26  "
      ]
     },
     "execution_count": 97,
     "metadata": {},
     "output_type": "execute_result"
    }
   ],
   "source": [
    "shoes_df = pd.read_csv('/Users/anjawu/Code/shopify-intern-project/DS-InternChallenge_DataSet.csv')\n",
    "shoes_df.head(10)"
   ]
  },
  {
   "cell_type": "markdown",
   "id": "d364d2eb",
   "metadata": {},
   "source": [
    "### Checking that the data only contains one months worth (2017-03)\n",
    "As the AOV is to be calculated looking at orders data over a 30 day window, I wanted to check that it was indeed 30 days."
   ]
  },
  {
   "cell_type": "code",
   "execution_count": 231,
   "id": "2247220a",
   "metadata": {},
   "outputs": [
    {
     "data": {
      "text/plain": [
       "1143    2017-03-01\n",
       "1610    2017-03-01\n",
       "1608    2017-03-01\n",
       "3146    2017-03-01\n",
       "3152    2017-03-01\n",
       "           ...    \n",
       "842     2017-03-30\n",
       "3988    2017-03-30\n",
       "882     2017-03-30\n",
       "954     2017-03-30\n",
       "3643    2017-03-30\n",
       "Name: date, Length: 5000, dtype: object"
      ]
     },
     "execution_count": 231,
     "metadata": {},
     "output_type": "execute_result"
    }
   ],
   "source": [
    "shoes_df['created_at'] = pd.to_datetime(shoes_df.created_at)\n",
    "shoes_df['date'] = shoes_df['created_at'].dt.date\n",
    "\n",
    "# Checking to ensure that there is just one month of data:\n",
    "shoes_df['date'].sort_values()"
   ]
  },
  {
   "cell_type": "markdown",
   "id": "4c8bdd5b",
   "metadata": {},
   "source": [
    "--- The date range is for March of 2017 ---"
   ]
  },
  {
   "cell_type": "markdown",
   "id": "4dadb2d2",
   "metadata": {},
   "source": [
    "----"
   ]
  },
  {
   "cell_type": "markdown",
   "id": "df4497b9",
   "metadata": {},
   "source": [
    "### On Shopify, we have exactly 100 sneaker shops, and each of these shops sells only one model of shoe. We want to do some analysis of the average order value (AOV). When we look at orders data over a 30 day window, we naively calculate an AOV of 3145.13. Given that we know these shops are selling sneakers, a relatively affordable item, something seems wrong with our analysis."
   ]
  },
  {
   "cell_type": "markdown",
   "id": "585adfab",
   "metadata": {},
   "source": [
    "# Part A)\n",
    "### Think about what could be going wrong with our calculation. Think about a better way to evaluate this data. "
   ]
  },
  {
   "cell_type": "code",
   "execution_count": 207,
   "id": "95be1a0f",
   "metadata": {},
   "outputs": [
    {
     "data": {
      "text/plain": [
       "3145.128"
      ]
     },
     "execution_count": 207,
     "metadata": {},
     "output_type": "execute_result"
    }
   ],
   "source": [
    "shoes_df['order_amount'].mean()\n",
    "# Calculated by taking the total of each order and dividing it by the number of orders"
   ]
  },
  {
   "cell_type": "code",
   "execution_count": 101,
   "id": "40fa4d63",
   "metadata": {},
   "outputs": [
    {
     "data": {
      "text/plain": [
       "3145.128"
      ]
     },
     "execution_count": 101,
     "metadata": {},
     "output_type": "execute_result"
    }
   ],
   "source": [
    "# Re-create how they calculated AOV, to be sure:\n",
    "sum(shoes_df['order_amount'])/len(shoes_df.index)"
   ]
  },
  {
   "cell_type": "markdown",
   "id": "ada30723",
   "metadata": {},
   "source": [
    "**The AOV calculation doesn't take into account any outliers, where there might be a large amount of shoes purchased in one order. So we can check the distribution of the data:**"
   ]
  },
  {
   "cell_type": "markdown",
   "id": "c2a0e943",
   "metadata": {},
   "source": [
    "## Distribution of data:\n",
    "### Analyzing total_items outliers"
   ]
  },
  {
   "cell_type": "code",
   "execution_count": 122,
   "id": "af6a9221",
   "metadata": {},
   "outputs": [
    {
     "data": {
      "image/png": "[encoded data removed]",
      "text/plain": [
       "<Figure size 720x360 with 1 Axes>"
      ]
     },
     "metadata": {
      "needs_background": "light"
     },
     "output_type": "display_data"
    }
   ],
   "source": [
    "plt.figure(figsize = (10,5))\n",
    "sb.countplot(x='total_items', data=shoes_df);"
   ]
  },
  {
   "cell_type": "markdown",
   "id": "6c9571e7",
   "metadata": {},
   "source": [
    "***Immediately we can see that there are some orders that contained 2000 items, the next biggest is 8.***"
   ]
  },
  {
   "cell_type": "code",
   "execution_count": 233,
   "id": "7d28f03d",
   "metadata": {},
   "outputs": [
    {
     "data": {
      "image/png": "[encoded data removed]",
      "text/plain": [
       "<Figure size 432x288 with 1 Axes>"
      ]
     },
     "metadata": {
      "needs_background": "light"
     },
     "output_type": "display_data"
    }
   ],
   "source": [
    "# showfliers = False removes outliers from view to be more readily able to see box-and-whisker plot values as 2,000 is far from 6\n",
    "sb.boxplot(x = 'total_items', data = shoes_df, showfliers = False);"
   ]
  },
  {
   "cell_type": "markdown",
   "id": "fdd3d019",
   "metadata": {},
   "source": [
    "--- As can be seen from the box-and-whisker plot any total_item over 6 is considered an outlier (using 1.5IQR). ---"
   ]
  },
  {
   "cell_type": "code",
   "execution_count": 167,
   "id": "a15a6d14",
   "metadata": {},
   "outputs": [
    {
     "data": {
      "text/plain": [
       "1"
      ]
     },
     "execution_count": 167,
     "metadata": {},
     "output_type": "execute_result"
    }
   ],
   "source": [
    "# As 8 is only slightly higher than 6 for total_items and in the bar chart it seems like a small value, \n",
    "# I was curious how many orders the total_item = 8 had\n",
    "shoes_df[shoes_df['total_items']==8]['order_amount'].count()"
   ]
  },
  {
   "cell_type": "markdown",
   "id": "d21b1385",
   "metadata": {},
   "source": [
    "***We can see that above 6 are considered a outliers, so it would be a good idea to analyze AOV without the 2000 total_items and since there is only 1 order of 8 items, it does not need to be removed as it will not affect the dataset much.*** "
   ]
  },
  {
   "cell_type": "markdown",
   "id": "c6f9f5a2",
   "metadata": {},
   "source": [
    "## Removal of total_orders = 2000:"
   ]
  },
  {
   "cell_type": "code",
   "execution_count": 237,
   "id": "973ef97a",
   "metadata": {},
   "outputs": [
    {
     "data": {
      "text/plain": [
       "(17, 8)"
      ]
     },
     "execution_count": 237,
     "metadata": {},
     "output_type": "execute_result"
    }
   ],
   "source": [
    "shoes_df[shoes_df['total_items']==2000].shape"
   ]
  },
  {
   "cell_type": "markdown",
   "id": "620768b2",
   "metadata": {},
   "source": [
    "**We will be removing 17 of them, leaving 4983 orders left.**"
   ]
  },
  {
   "cell_type": "code",
   "execution_count": 182,
   "id": "800aa585",
   "metadata": {},
   "outputs": [
    {
     "data": {
      "text/html": [
       "<div>\n",
       "<style scoped>\n",
       "    .dataframe tbody tr th:only-of-type {\n",
       "        vertical-align: middle;\n",
       "    }\n",
       "\n",
       "    .dataframe tbody tr th {\n",
       "        vertical-align: top;\n",
       "    }\n",
       "\n",
       "    .dataframe thead th {\n",
       "        text-align: right;\n",
       "    }\n",
       "</style>\n",
       "<table border=\"1\" class=\"dataframe\">\n",
       "  <thead>\n",
       "    <tr style=\"text-align: right;\">\n",
       "      <th></th>\n",
       "      <th>order_id</th>\n",
       "      <th>shop_id</th>\n",
       "      <th>user_id</th>\n",
       "      <th>order_amount</th>\n",
       "      <th>total_items</th>\n",
       "      <th>payment_method</th>\n",
       "      <th>created_at</th>\n",
       "      <th>date</th>\n",
       "    </tr>\n",
       "  </thead>\n",
       "  <tbody>\n",
       "    <tr>\n",
       "      <th>0</th>\n",
       "      <td>1</td>\n",
       "      <td>53</td>\n",
       "      <td>746</td>\n",
       "      <td>224</td>\n",
       "      <td>2</td>\n",
       "      <td>cash</td>\n",
       "      <td>2017-03-13 12:36:56</td>\n",
       "      <td>2017-03-13</td>\n",
       "    </tr>\n",
       "    <tr>\n",
       "      <th>1</th>\n",
       "      <td>2</td>\n",
       "      <td>92</td>\n",
       "      <td>925</td>\n",
       "      <td>90</td>\n",
       "      <td>1</td>\n",
       "      <td>cash</td>\n",
       "      <td>2017-03-03 17:38:52</td>\n",
       "      <td>2017-03-03</td>\n",
       "    </tr>\n",
       "    <tr>\n",
       "      <th>2</th>\n",
       "      <td>3</td>\n",
       "      <td>44</td>\n",
       "      <td>861</td>\n",
       "      <td>144</td>\n",
       "      <td>1</td>\n",
       "      <td>cash</td>\n",
       "      <td>2017-03-14 04:23:56</td>\n",
       "      <td>2017-03-14</td>\n",
       "    </tr>\n",
       "    <tr>\n",
       "      <th>3</th>\n",
       "      <td>4</td>\n",
       "      <td>18</td>\n",
       "      <td>935</td>\n",
       "      <td>156</td>\n",
       "      <td>1</td>\n",
       "      <td>credit_card</td>\n",
       "      <td>2017-03-26 12:43:37</td>\n",
       "      <td>2017-03-26</td>\n",
       "    </tr>\n",
       "    <tr>\n",
       "      <th>4</th>\n",
       "      <td>5</td>\n",
       "      <td>18</td>\n",
       "      <td>883</td>\n",
       "      <td>156</td>\n",
       "      <td>1</td>\n",
       "      <td>credit_card</td>\n",
       "      <td>2017-03-01 04:35:11</td>\n",
       "      <td>2017-03-01</td>\n",
       "    </tr>\n",
       "    <tr>\n",
       "      <th>...</th>\n",
       "      <td>...</td>\n",
       "      <td>...</td>\n",
       "      <td>...</td>\n",
       "      <td>...</td>\n",
       "      <td>...</td>\n",
       "      <td>...</td>\n",
       "      <td>...</td>\n",
       "      <td>...</td>\n",
       "    </tr>\n",
       "    <tr>\n",
       "      <th>4995</th>\n",
       "      <td>4996</td>\n",
       "      <td>73</td>\n",
       "      <td>993</td>\n",
       "      <td>330</td>\n",
       "      <td>2</td>\n",
       "      <td>debit</td>\n",
       "      <td>2017-03-30 13:47:17</td>\n",
       "      <td>2017-03-30</td>\n",
       "    </tr>\n",
       "    <tr>\n",
       "      <th>4996</th>\n",
       "      <td>4997</td>\n",
       "      <td>48</td>\n",
       "      <td>789</td>\n",
       "      <td>234</td>\n",
       "      <td>2</td>\n",
       "      <td>cash</td>\n",
       "      <td>2017-03-16 20:36:16</td>\n",
       "      <td>2017-03-16</td>\n",
       "    </tr>\n",
       "    <tr>\n",
       "      <th>4997</th>\n",
       "      <td>4998</td>\n",
       "      <td>56</td>\n",
       "      <td>867</td>\n",
       "      <td>351</td>\n",
       "      <td>3</td>\n",
       "      <td>cash</td>\n",
       "      <td>2017-03-19 05:42:42</td>\n",
       "      <td>2017-03-19</td>\n",
       "    </tr>\n",
       "    <tr>\n",
       "      <th>4998</th>\n",
       "      <td>4999</td>\n",
       "      <td>60</td>\n",
       "      <td>825</td>\n",
       "      <td>354</td>\n",
       "      <td>2</td>\n",
       "      <td>credit_card</td>\n",
       "      <td>2017-03-16 14:51:18</td>\n",
       "      <td>2017-03-16</td>\n",
       "    </tr>\n",
       "    <tr>\n",
       "      <th>4999</th>\n",
       "      <td>5000</td>\n",
       "      <td>44</td>\n",
       "      <td>734</td>\n",
       "      <td>288</td>\n",
       "      <td>2</td>\n",
       "      <td>debit</td>\n",
       "      <td>2017-03-18 15:48:18</td>\n",
       "      <td>2017-03-18</td>\n",
       "    </tr>\n",
       "  </tbody>\n",
       "</table>\n",
       "<p>4983 rows × 8 columns</p>\n",
       "</div>"
      ],
      "text/plain": [
       "      order_id  shop_id  user_id  order_amount  total_items payment_method  \\\n",
       "0            1       53      746           224            2           cash   \n",
       "1            2       92      925            90            1           cash   \n",
       "2            3       44      861           144            1           cash   \n",
       "3            4       18      935           156            1    credit_card   \n",
       "4            5       18      883           156            1    credit_card   \n",
       "...        ...      ...      ...           ...          ...            ...   \n",
       "4995      4996       73      993           330            2          debit   \n",
       "4996      4997       48      789           234            2           cash   \n",
       "4997      4998       56      867           351            3           cash   \n",
       "4998      4999       60      825           354            2    credit_card   \n",
       "4999      5000       44      734           288            2          debit   \n",
       "\n",
       "              created_at        date  \n",
       "0    2017-03-13 12:36:56  2017-03-13  \n",
       "1    2017-03-03 17:38:52  2017-03-03  \n",
       "2    2017-03-14 04:23:56  2017-03-14  \n",
       "3    2017-03-26 12:43:37  2017-03-26  \n",
       "4    2017-03-01 04:35:11  2017-03-01  \n",
       "...                  ...         ...  \n",
       "4995 2017-03-30 13:47:17  2017-03-30  \n",
       "4996 2017-03-16 20:36:16  2017-03-16  \n",
       "4997 2017-03-19 05:42:42  2017-03-19  \n",
       "4998 2017-03-16 14:51:18  2017-03-16  \n",
       "4999 2017-03-18 15:48:18  2017-03-18  \n",
       "\n",
       "[4983 rows x 8 columns]"
      ]
     },
     "execution_count": 182,
     "metadata": {},
     "output_type": "execute_result"
    }
   ],
   "source": [
    "smaller_2000_shoes_df = shoes_df.copy()\n",
    "smaller_2000_shoes_df = smaller_2000_shoes_df.drop(index=smaller_2000_shoes_df[smaller_2000_shoes_df['total_items']==2000].index)\n",
    "smaller_2000_shoes_df\n"
   ]
  },
  {
   "cell_type": "markdown",
   "id": "472f145e",
   "metadata": {},
   "source": [
    "--- Now that we have dealt with the outliers of the total_items, we can checkout order_amount --- "
   ]
  },
  {
   "cell_type": "markdown",
   "id": "57294cf9",
   "metadata": {},
   "source": [
    "### Analyzing order_amount outliers:"
   ]
  },
  {
   "cell_type": "code",
   "execution_count": 234,
   "id": "e064fa1e",
   "metadata": {},
   "outputs": [
    {
     "data": {
      "image/png": "[encoded data removed]",
      "text/plain": [
       "<Figure size 2160x1080 with 1 Axes>"
      ]
     },
     "metadata": {
      "needs_background": "light"
     },
     "output_type": "display_data"
    }
   ],
   "source": [
    "plt.figure(figsize = (30,15))\n",
    "sb.countplot(x='order_amount', data=smaller_2000_shoes_df)\n",
    "plt.xticks(rotation='vertical', fontsize= 5)\n",
    "plt.show\n",
    "# plt.savefig('/Users/anjawu/Code/shopify-intern-project/order-amount-countplot.png',  facecolor = 'white')\n"
   ]
  },
  {
   "cell_type": "markdown",
   "id": "c94365b4",
   "metadata": {},
   "source": [
    "I know that you cannot see the numbers but I'm plotting the histogram to get a big picture idea of the data spread for order_amount. As can be seen (even with the removal of total_items = 2,000) there are several orders that have a very large order_amount (more than 3 digits). This creates an unexpected spike at the expensive end of the graph, which is interesting and should be dug into more. So to get a more granular view, we analyze a box-and-whisker plot."
   ]
  },
  {
   "cell_type": "code",
   "execution_count": 168,
   "id": "63d2ea22",
   "metadata": {},
   "outputs": [
    {
     "data": {
      "image/png": "[encoded data removed]",
      "text/plain": [
       "<Figure size 2160x360 with 1 Axes>"
      ]
     },
     "metadata": {
      "needs_background": "light"
     },
     "output_type": "display_data"
    }
   ],
   "source": [
    "plt.figure(figsize = (30,5))\n",
    "sb.boxplot(x = 'order_amount', data = smaller_2000_shoes_df);"
   ]
  },
  {
   "cell_type": "markdown",
   "id": "6d6ecafc",
   "metadata": {},
   "source": [
    "--- Here we see that there are still dollar amounts over 20,000. We can find the value of 1.5 IQR for outliers: ---"
   ]
  },
  {
   "cell_type": "code",
   "execution_count": 103,
   "id": "d27e8c49",
   "metadata": {},
   "outputs": [
    {
     "data": {
      "image/png": "[encoded data removed]",
      "text/plain": [
       "<Figure size 432x288 with 1 Axes>"
      ]
     },
     "metadata": {
      "needs_background": "light"
     },
     "output_type": "display_data"
    }
   ],
   "source": [
    "sb.boxplot(x = 'order_amount', data = shoes_df, showfliers = False);"
   ]
  },
  {
   "cell_type": "markdown",
   "id": "564c9a8c",
   "metadata": {},
   "source": [
    "--- As can be seen from the box-and-whisker plot any order_amount over 725 is considered an outlier. ---"
   ]
  },
  {
   "cell_type": "markdown",
   "id": "a67f99f3",
   "metadata": {},
   "source": [
    "Let's checkout the dataset for order_amount over 725:"
   ]
  },
  {
   "cell_type": "code",
   "execution_count": 227,
   "id": "e69d04c7",
   "metadata": {},
   "outputs": [],
   "source": [
    "order_amount_over_725 = smaller_2000_shoes_df[smaller_2000_shoes_df['order_amount']>725]"
   ]
  },
  {
   "cell_type": "code",
   "execution_count": 228,
   "id": "30083703",
   "metadata": {},
   "outputs": [
    {
     "data": {
      "image/png": "[encoded data removed]",
      "text/plain": [
       "<Figure size 1440x504 with 2 Axes>"
      ]
     },
     "metadata": {
      "needs_background": "light"
     },
     "output_type": "display_data"
    }
   ],
   "source": [
    "fig, (ax0, ax1) = plt.subplots(1, 2, figsize = (20,7))\n",
    "sb.countplot(x='total_items', data=order_amount_over_725, ax=ax0);\n",
    "sb.countplot(x='order_amount', data=order_amount_over_725, ax=ax1);\n",
    "plt.xticks(rotation = 'vertical');"
   ]
  },
  {
   "cell_type": "markdown",
   "id": "e8f2c1af",
   "metadata": {},
   "source": [
    "The order_amount jump goes from 1,760 to 25,725 - which is a very larger jump. Out of curiousity, I looked into how many items were sold for that amount:"
   ]
  },
  {
   "cell_type": "code",
   "execution_count": 206,
   "id": "1450fd79",
   "metadata": {},
   "outputs": [
    {
     "data": {
      "text/html": [
       "<div>\n",
       "<style scoped>\n",
       "    .dataframe tbody tr th:only-of-type {\n",
       "        vertical-align: middle;\n",
       "    }\n",
       "\n",
       "    .dataframe tbody tr th {\n",
       "        vertical-align: top;\n",
       "    }\n",
       "\n",
       "    .dataframe thead th {\n",
       "        text-align: right;\n",
       "    }\n",
       "</style>\n",
       "<table border=\"1\" class=\"dataframe\">\n",
       "  <thead>\n",
       "    <tr style=\"text-align: right;\">\n",
       "      <th></th>\n",
       "      <th>order_id</th>\n",
       "      <th>shop_id</th>\n",
       "      <th>user_id</th>\n",
       "      <th>order_amount</th>\n",
       "      <th>total_items</th>\n",
       "      <th>payment_method</th>\n",
       "      <th>created_at</th>\n",
       "      <th>date</th>\n",
       "    </tr>\n",
       "  </thead>\n",
       "  <tbody>\n",
       "    <tr>\n",
       "      <th>160</th>\n",
       "      <td>161</td>\n",
       "      <td>78</td>\n",
       "      <td>990</td>\n",
       "      <td>25725</td>\n",
       "      <td>1</td>\n",
       "      <td>credit_card</td>\n",
       "      <td>2017-03-12 05:56:57</td>\n",
       "      <td>2017-03-12</td>\n",
       "    </tr>\n",
       "    <tr>\n",
       "      <th>1056</th>\n",
       "      <td>1057</td>\n",
       "      <td>78</td>\n",
       "      <td>800</td>\n",
       "      <td>25725</td>\n",
       "      <td>1</td>\n",
       "      <td>debit</td>\n",
       "      <td>2017-03-15 10:16:45</td>\n",
       "      <td>2017-03-15</td>\n",
       "    </tr>\n",
       "    <tr>\n",
       "      <th>1193</th>\n",
       "      <td>1194</td>\n",
       "      <td>78</td>\n",
       "      <td>944</td>\n",
       "      <td>25725</td>\n",
       "      <td>1</td>\n",
       "      <td>debit</td>\n",
       "      <td>2017-03-16 16:38:26</td>\n",
       "      <td>2017-03-16</td>\n",
       "    </tr>\n",
       "    <tr>\n",
       "      <th>1204</th>\n",
       "      <td>1205</td>\n",
       "      <td>78</td>\n",
       "      <td>970</td>\n",
       "      <td>25725</td>\n",
       "      <td>1</td>\n",
       "      <td>credit_card</td>\n",
       "      <td>2017-03-17 22:32:21</td>\n",
       "      <td>2017-03-17</td>\n",
       "    </tr>\n",
       "    <tr>\n",
       "      <th>1384</th>\n",
       "      <td>1385</td>\n",
       "      <td>78</td>\n",
       "      <td>867</td>\n",
       "      <td>25725</td>\n",
       "      <td>1</td>\n",
       "      <td>cash</td>\n",
       "      <td>2017-03-17 16:38:06</td>\n",
       "      <td>2017-03-17</td>\n",
       "    </tr>\n",
       "    <tr>\n",
       "      <th>1419</th>\n",
       "      <td>1420</td>\n",
       "      <td>78</td>\n",
       "      <td>912</td>\n",
       "      <td>25725</td>\n",
       "      <td>1</td>\n",
       "      <td>cash</td>\n",
       "      <td>2017-03-30 12:23:43</td>\n",
       "      <td>2017-03-30</td>\n",
       "    </tr>\n",
       "    <tr>\n",
       "      <th>1452</th>\n",
       "      <td>1453</td>\n",
       "      <td>78</td>\n",
       "      <td>812</td>\n",
       "      <td>25725</td>\n",
       "      <td>1</td>\n",
       "      <td>credit_card</td>\n",
       "      <td>2017-03-17 18:09:54</td>\n",
       "      <td>2017-03-17</td>\n",
       "    </tr>\n",
       "    <tr>\n",
       "      <th>2270</th>\n",
       "      <td>2271</td>\n",
       "      <td>78</td>\n",
       "      <td>855</td>\n",
       "      <td>25725</td>\n",
       "      <td>1</td>\n",
       "      <td>credit_card</td>\n",
       "      <td>2017-03-14 23:58:22</td>\n",
       "      <td>2017-03-14</td>\n",
       "    </tr>\n",
       "    <tr>\n",
       "      <th>2548</th>\n",
       "      <td>2549</td>\n",
       "      <td>78</td>\n",
       "      <td>861</td>\n",
       "      <td>25725</td>\n",
       "      <td>1</td>\n",
       "      <td>cash</td>\n",
       "      <td>2017-03-17 19:36:00</td>\n",
       "      <td>2017-03-17</td>\n",
       "    </tr>\n",
       "    <tr>\n",
       "      <th>2773</th>\n",
       "      <td>2774</td>\n",
       "      <td>78</td>\n",
       "      <td>890</td>\n",
       "      <td>25725</td>\n",
       "      <td>1</td>\n",
       "      <td>cash</td>\n",
       "      <td>2017-03-26 10:36:43</td>\n",
       "      <td>2017-03-26</td>\n",
       "    </tr>\n",
       "    <tr>\n",
       "      <th>2922</th>\n",
       "      <td>2923</td>\n",
       "      <td>78</td>\n",
       "      <td>740</td>\n",
       "      <td>25725</td>\n",
       "      <td>1</td>\n",
       "      <td>debit</td>\n",
       "      <td>2017-03-12 20:10:58</td>\n",
       "      <td>2017-03-12</td>\n",
       "    </tr>\n",
       "    <tr>\n",
       "      <th>3085</th>\n",
       "      <td>3086</td>\n",
       "      <td>78</td>\n",
       "      <td>910</td>\n",
       "      <td>25725</td>\n",
       "      <td>1</td>\n",
       "      <td>cash</td>\n",
       "      <td>2017-03-26 01:59:27</td>\n",
       "      <td>2017-03-26</td>\n",
       "    </tr>\n",
       "    <tr>\n",
       "      <th>3151</th>\n",
       "      <td>3152</td>\n",
       "      <td>78</td>\n",
       "      <td>745</td>\n",
       "      <td>25725</td>\n",
       "      <td>1</td>\n",
       "      <td>credit_card</td>\n",
       "      <td>2017-03-18 13:13:07</td>\n",
       "      <td>2017-03-18</td>\n",
       "    </tr>\n",
       "    <tr>\n",
       "      <th>3440</th>\n",
       "      <td>3441</td>\n",
       "      <td>78</td>\n",
       "      <td>982</td>\n",
       "      <td>25725</td>\n",
       "      <td>1</td>\n",
       "      <td>debit</td>\n",
       "      <td>2017-03-19 19:02:54</td>\n",
       "      <td>2017-03-19</td>\n",
       "    </tr>\n",
       "    <tr>\n",
       "      <th>3780</th>\n",
       "      <td>3781</td>\n",
       "      <td>78</td>\n",
       "      <td>889</td>\n",
       "      <td>25725</td>\n",
       "      <td>1</td>\n",
       "      <td>cash</td>\n",
       "      <td>2017-03-11 21:14:50</td>\n",
       "      <td>2017-03-11</td>\n",
       "    </tr>\n",
       "    <tr>\n",
       "      <th>4040</th>\n",
       "      <td>4041</td>\n",
       "      <td>78</td>\n",
       "      <td>852</td>\n",
       "      <td>25725</td>\n",
       "      <td>1</td>\n",
       "      <td>cash</td>\n",
       "      <td>2017-03-02 14:31:12</td>\n",
       "      <td>2017-03-02</td>\n",
       "    </tr>\n",
       "    <tr>\n",
       "      <th>4505</th>\n",
       "      <td>4506</td>\n",
       "      <td>78</td>\n",
       "      <td>866</td>\n",
       "      <td>25725</td>\n",
       "      <td>1</td>\n",
       "      <td>debit</td>\n",
       "      <td>2017-03-22 22:06:01</td>\n",
       "      <td>2017-03-22</td>\n",
       "    </tr>\n",
       "    <tr>\n",
       "      <th>4584</th>\n",
       "      <td>4585</td>\n",
       "      <td>78</td>\n",
       "      <td>997</td>\n",
       "      <td>25725</td>\n",
       "      <td>1</td>\n",
       "      <td>cash</td>\n",
       "      <td>2017-03-25 21:48:44</td>\n",
       "      <td>2017-03-25</td>\n",
       "    </tr>\n",
       "    <tr>\n",
       "      <th>4918</th>\n",
       "      <td>4919</td>\n",
       "      <td>78</td>\n",
       "      <td>823</td>\n",
       "      <td>25725</td>\n",
       "      <td>1</td>\n",
       "      <td>cash</td>\n",
       "      <td>2017-03-15 13:26:46</td>\n",
       "      <td>2017-03-15</td>\n",
       "    </tr>\n",
       "  </tbody>\n",
       "</table>\n",
       "</div>"
      ],
      "text/plain": [
       "      order_id  shop_id  user_id  order_amount  total_items payment_method  \\\n",
       "160        161       78      990         25725            1    credit_card   \n",
       "1056      1057       78      800         25725            1          debit   \n",
       "1193      1194       78      944         25725            1          debit   \n",
       "1204      1205       78      970         25725            1    credit_card   \n",
       "1384      1385       78      867         25725            1           cash   \n",
       "1419      1420       78      912         25725            1           cash   \n",
       "1452      1453       78      812         25725            1    credit_card   \n",
       "2270      2271       78      855         25725            1    credit_card   \n",
       "2548      2549       78      861         25725            1           cash   \n",
       "2773      2774       78      890         25725            1           cash   \n",
       "2922      2923       78      740         25725            1          debit   \n",
       "3085      3086       78      910         25725            1           cash   \n",
       "3151      3152       78      745         25725            1    credit_card   \n",
       "3440      3441       78      982         25725            1          debit   \n",
       "3780      3781       78      889         25725            1           cash   \n",
       "4040      4041       78      852         25725            1           cash   \n",
       "4505      4506       78      866         25725            1          debit   \n",
       "4584      4585       78      997         25725            1           cash   \n",
       "4918      4919       78      823         25725            1           cash   \n",
       "\n",
       "              created_at        date  \n",
       "160  2017-03-12 05:56:57  2017-03-12  \n",
       "1056 2017-03-15 10:16:45  2017-03-15  \n",
       "1193 2017-03-16 16:38:26  2017-03-16  \n",
       "1204 2017-03-17 22:32:21  2017-03-17  \n",
       "1384 2017-03-17 16:38:06  2017-03-17  \n",
       "1419 2017-03-30 12:23:43  2017-03-30  \n",
       "1452 2017-03-17 18:09:54  2017-03-17  \n",
       "2270 2017-03-14 23:58:22  2017-03-14  \n",
       "2548 2017-03-17 19:36:00  2017-03-17  \n",
       "2773 2017-03-26 10:36:43  2017-03-26  \n",
       "2922 2017-03-12 20:10:58  2017-03-12  \n",
       "3085 2017-03-26 01:59:27  2017-03-26  \n",
       "3151 2017-03-18 13:13:07  2017-03-18  \n",
       "3440 2017-03-19 19:02:54  2017-03-19  \n",
       "3780 2017-03-11 21:14:50  2017-03-11  \n",
       "4040 2017-03-02 14:31:12  2017-03-02  \n",
       "4505 2017-03-22 22:06:01  2017-03-22  \n",
       "4584 2017-03-25 21:48:44  2017-03-25  \n",
       "4918 2017-03-15 13:26:46  2017-03-15  "
      ]
     },
     "execution_count": 206,
     "metadata": {},
     "output_type": "execute_result"
    }
   ],
   "source": [
    "shoes_df[shoes_df['order_amount'] == 25725]"
   ]
  },
  {
   "cell_type": "markdown",
   "id": "5b5323c4",
   "metadata": {},
   "source": [
    "--- This shows that one store is selling one item for $25,725. This seems very high and unusual for most shoe stores and it takes information away from the AOV. ---"
   ]
  },
  {
   "cell_type": "markdown",
   "id": "040b0a18",
   "metadata": {},
   "source": [
    "Checking to see number of total_items distribution for all order_amounts over $25,000:"
   ]
  },
  {
   "cell_type": "code",
   "execution_count": 204,
   "id": "a1947a59",
   "metadata": {},
   "outputs": [],
   "source": [
    "order_amount_over_25000 = smaller_2000_shoes_df[smaller_2000_shoes_df['order_amount']>25000]"
   ]
  },
  {
   "cell_type": "code",
   "execution_count": 205,
   "id": "c00a6787",
   "metadata": {},
   "outputs": [
    {
     "data": {
      "image/png": "[encoded data removed]",
      "text/plain": [
       "<Figure size 1440x504 with 2 Axes>"
      ]
     },
     "metadata": {
      "needs_background": "light"
     },
     "output_type": "display_data"
    }
   ],
   "source": [
    "fig, (ax0, ax1) = plt.subplots(1, 2, figsize = (20,7))\n",
    "sb.countplot(x='order_amount', data=order_amount_over_25000, ax=ax0);\n",
    "sb.countplot(x='total_items', data=order_amount_over_25000, ax=ax1);"
   ]
  },
  {
   "cell_type": "markdown",
   "id": "58fbbdc4",
   "metadata": {},
   "source": [
    "--- As can be seen most of these large order_amounts are majority for only a few items (1-3) ---"
   ]
  },
  {
   "cell_type": "markdown",
   "id": "18317b90",
   "metadata": {},
   "source": [
    "These order amounts are very high, especially considering the number of total_items per order. Although anything over 725 is considered an outlier based on our box-and-whisker plot, I wanted to keep as much data as possible to give more information. I decided to take out order_amounts over 25,000 because the jump prior to that amount is under 2,000. This seems like a reasonable cap."
   ]
  },
  {
   "cell_type": "code",
   "execution_count": 236,
   "id": "f09143de",
   "metadata": {},
   "outputs": [
    {
     "data": {
      "text/plain": [
       "(46, 8)"
      ]
     },
     "execution_count": 236,
     "metadata": {},
     "output_type": "execute_result"
    }
   ],
   "source": [
    "smaller_2000_shoes_df[smaller_2000_shoes_df['order_amount']>25000].shape"
   ]
  },
  {
   "cell_type": "markdown",
   "id": "778b148a",
   "metadata": {},
   "source": [
    "**We will be removing 46 more orders, leaving 4937 orders left.**"
   ]
  },
  {
   "cell_type": "markdown",
   "id": "71943cbd",
   "metadata": {},
   "source": [
    "### Creating Final DataFrame after removing outliers"
   ]
  },
  {
   "cell_type": "code",
   "execution_count": 191,
   "id": "04c2444b",
   "metadata": {},
   "outputs": [
    {
     "data": {
      "text/html": [
       "<div>\n",
       "<style scoped>\n",
       "    .dataframe tbody tr th:only-of-type {\n",
       "        vertical-align: middle;\n",
       "    }\n",
       "\n",
       "    .dataframe tbody tr th {\n",
       "        vertical-align: top;\n",
       "    }\n",
       "\n",
       "    .dataframe thead th {\n",
       "        text-align: right;\n",
       "    }\n",
       "</style>\n",
       "<table border=\"1\" class=\"dataframe\">\n",
       "  <thead>\n",
       "    <tr style=\"text-align: right;\">\n",
       "      <th></th>\n",
       "      <th>order_id</th>\n",
       "      <th>shop_id</th>\n",
       "      <th>user_id</th>\n",
       "      <th>order_amount</th>\n",
       "      <th>total_items</th>\n",
       "      <th>payment_method</th>\n",
       "      <th>created_at</th>\n",
       "      <th>date</th>\n",
       "    </tr>\n",
       "  </thead>\n",
       "  <tbody>\n",
       "    <tr>\n",
       "      <th>0</th>\n",
       "      <td>1</td>\n",
       "      <td>53</td>\n",
       "      <td>746</td>\n",
       "      <td>224</td>\n",
       "      <td>2</td>\n",
       "      <td>cash</td>\n",
       "      <td>2017-03-13 12:36:56</td>\n",
       "      <td>2017-03-13</td>\n",
       "    </tr>\n",
       "    <tr>\n",
       "      <th>1</th>\n",
       "      <td>2</td>\n",
       "      <td>92</td>\n",
       "      <td>925</td>\n",
       "      <td>90</td>\n",
       "      <td>1</td>\n",
       "      <td>cash</td>\n",
       "      <td>2017-03-03 17:38:52</td>\n",
       "      <td>2017-03-03</td>\n",
       "    </tr>\n",
       "    <tr>\n",
       "      <th>2</th>\n",
       "      <td>3</td>\n",
       "      <td>44</td>\n",
       "      <td>861</td>\n",
       "      <td>144</td>\n",
       "      <td>1</td>\n",
       "      <td>cash</td>\n",
       "      <td>2017-03-14 04:23:56</td>\n",
       "      <td>2017-03-14</td>\n",
       "    </tr>\n",
       "    <tr>\n",
       "      <th>3</th>\n",
       "      <td>4</td>\n",
       "      <td>18</td>\n",
       "      <td>935</td>\n",
       "      <td>156</td>\n",
       "      <td>1</td>\n",
       "      <td>credit_card</td>\n",
       "      <td>2017-03-26 12:43:37</td>\n",
       "      <td>2017-03-26</td>\n",
       "    </tr>\n",
       "    <tr>\n",
       "      <th>4</th>\n",
       "      <td>5</td>\n",
       "      <td>18</td>\n",
       "      <td>883</td>\n",
       "      <td>156</td>\n",
       "      <td>1</td>\n",
       "      <td>credit_card</td>\n",
       "      <td>2017-03-01 04:35:11</td>\n",
       "      <td>2017-03-01</td>\n",
       "    </tr>\n",
       "    <tr>\n",
       "      <th>...</th>\n",
       "      <td>...</td>\n",
       "      <td>...</td>\n",
       "      <td>...</td>\n",
       "      <td>...</td>\n",
       "      <td>...</td>\n",
       "      <td>...</td>\n",
       "      <td>...</td>\n",
       "      <td>...</td>\n",
       "    </tr>\n",
       "    <tr>\n",
       "      <th>4995</th>\n",
       "      <td>4996</td>\n",
       "      <td>73</td>\n",
       "      <td>993</td>\n",
       "      <td>330</td>\n",
       "      <td>2</td>\n",
       "      <td>debit</td>\n",
       "      <td>2017-03-30 13:47:17</td>\n",
       "      <td>2017-03-30</td>\n",
       "    </tr>\n",
       "    <tr>\n",
       "      <th>4996</th>\n",
       "      <td>4997</td>\n",
       "      <td>48</td>\n",
       "      <td>789</td>\n",
       "      <td>234</td>\n",
       "      <td>2</td>\n",
       "      <td>cash</td>\n",
       "      <td>2017-03-16 20:36:16</td>\n",
       "      <td>2017-03-16</td>\n",
       "    </tr>\n",
       "    <tr>\n",
       "      <th>4997</th>\n",
       "      <td>4998</td>\n",
       "      <td>56</td>\n",
       "      <td>867</td>\n",
       "      <td>351</td>\n",
       "      <td>3</td>\n",
       "      <td>cash</td>\n",
       "      <td>2017-03-19 05:42:42</td>\n",
       "      <td>2017-03-19</td>\n",
       "    </tr>\n",
       "    <tr>\n",
       "      <th>4998</th>\n",
       "      <td>4999</td>\n",
       "      <td>60</td>\n",
       "      <td>825</td>\n",
       "      <td>354</td>\n",
       "      <td>2</td>\n",
       "      <td>credit_card</td>\n",
       "      <td>2017-03-16 14:51:18</td>\n",
       "      <td>2017-03-16</td>\n",
       "    </tr>\n",
       "    <tr>\n",
       "      <th>4999</th>\n",
       "      <td>5000</td>\n",
       "      <td>44</td>\n",
       "      <td>734</td>\n",
       "      <td>288</td>\n",
       "      <td>2</td>\n",
       "      <td>debit</td>\n",
       "      <td>2017-03-18 15:48:18</td>\n",
       "      <td>2017-03-18</td>\n",
       "    </tr>\n",
       "  </tbody>\n",
       "</table>\n",
       "<p>4937 rows × 8 columns</p>\n",
       "</div>"
      ],
      "text/plain": [
       "      order_id  shop_id  user_id  order_amount  total_items payment_method  \\\n",
       "0            1       53      746           224            2           cash   \n",
       "1            2       92      925            90            1           cash   \n",
       "2            3       44      861           144            1           cash   \n",
       "3            4       18      935           156            1    credit_card   \n",
       "4            5       18      883           156            1    credit_card   \n",
       "...        ...      ...      ...           ...          ...            ...   \n",
       "4995      4996       73      993           330            2          debit   \n",
       "4996      4997       48      789           234            2           cash   \n",
       "4997      4998       56      867           351            3           cash   \n",
       "4998      4999       60      825           354            2    credit_card   \n",
       "4999      5000       44      734           288            2          debit   \n",
       "\n",
       "              created_at        date  \n",
       "0    2017-03-13 12:36:56  2017-03-13  \n",
       "1    2017-03-03 17:38:52  2017-03-03  \n",
       "2    2017-03-14 04:23:56  2017-03-14  \n",
       "3    2017-03-26 12:43:37  2017-03-26  \n",
       "4    2017-03-01 04:35:11  2017-03-01  \n",
       "...                  ...         ...  \n",
       "4995 2017-03-30 13:47:17  2017-03-30  \n",
       "4996 2017-03-16 20:36:16  2017-03-16  \n",
       "4997 2017-03-19 05:42:42  2017-03-19  \n",
       "4998 2017-03-16 14:51:18  2017-03-16  \n",
       "4999 2017-03-18 15:48:18  2017-03-18  \n",
       "\n",
       "[4937 rows x 8 columns]"
      ]
     },
     "execution_count": 191,
     "metadata": {},
     "output_type": "execute_result"
    }
   ],
   "source": [
    "# Creating new dataframe to store the shoes stores which have their cost under 25,000 (including dropping the total_items = 2000)\n",
    "cost_under_25000_shoes_df = smaller_2000_shoes_df.copy()\n",
    "cost_under_25000_shoes_df = cost_under_25000_shoes_df.drop(index=cost_under_25000_shoes_df[cost_under_25000_shoes_df['order_amount']>25000].index)\n",
    "cost_under_25000_shoes_df\n"
   ]
  },
  {
   "cell_type": "code",
   "execution_count": 193,
   "id": "2ba851c0",
   "metadata": {},
   "outputs": [
    {
     "data": {
      "text/plain": [
       "<function matplotlib.pyplot.show(close=None, block=None)>"
      ]
     },
     "execution_count": 193,
     "metadata": {},
     "output_type": "execute_result"
    },
    {
     "data": {
      "image/png": "[encoded data removed]",
      "text/plain": [
       "<Figure size 2160x1080 with 1 Axes>"
      ]
     },
     "metadata": {
      "needs_background": "light"
     },
     "output_type": "display_data"
    }
   ],
   "source": [
    "plt.figure(figsize = (30,15))\n",
    "sb.countplot(x='order_amount', data = cost_under_25000_shoes_df)\n",
    "plt.xticks(rotation='vertical', fontsize= 5)\n",
    "plt.show"
   ]
  },
  {
   "cell_type": "markdown",
   "id": "7b25f6f3",
   "metadata": {},
   "source": [
    "This distribution seems a lot more of what should be expected (more of a plateau at the more expensive end - rather than a spike compared to before)."
   ]
  },
  {
   "cell_type": "markdown",
   "id": "34fb94ec",
   "metadata": {},
   "source": [
    "### Summary of Part a):\n",
    "\n",
    "The AOV was calculated correctly: sum of order_amount divided by sum of total_items. However, the reason the AOV is so high ($3,145.13) is because there are outliers for both total_items and order_amount. Calculating mean with outliers heavily influencing the average.\n",
    "\n",
    "As can be seen in the Jupyter notebook, for total_items any item amount over 6 is considered an outlier. We can see that there are 17 orders in which the total_items was 2,000, there was also one order that had 8 total_items. The one order with 8 items will not affect the data much, as it is very close to the other total_items, so it was kept in the data, while the orders with total_items of 2000 was removed. \n",
    "\n",
    "For the order_amount, when we look at the distribution we can see that there is a large jump from just under 2,000 to above 25,000 (this only includes total_items mostly for 1-3). This seems to be might be some sort of error in inputting as 25,725 for 1 pair of shoes is strange. If I were working on this and had access to the pipeline or could speak to he process of collecting data, I would dig into the mentioned outliers to see if they are legitimate or if they were mistakes made. So I removed dollar amounts above 25,000 - this was 46 more points (out of the remaining 4983), leaving 4937 orders.\n",
    "\n",
    "Now using the three differently adjusted datasets, we can analyze between: mean, median and mode for the AOV.\n",
    "\n",
    "\n",
    "\n",
    "*Note: this is also found in the PDF document but was put here for ease of reading and not flipping between pages*"
   ]
  },
  {
   "cell_type": "markdown",
   "id": "79d07d38",
   "metadata": {},
   "source": [
    "--- "
   ]
  },
  {
   "cell_type": "markdown",
   "id": "39339910",
   "metadata": {},
   "source": [
    "# Part B)\n",
    "### What metric would you report for this dataset?"
   ]
  },
  {
   "cell_type": "markdown",
   "id": "7eca4a15",
   "metadata": {},
   "source": [
    "Looking at mean, median, and mode for all three steps (1- no removal of data, 2- removal of total_items = 2,000, 3- removal of order_amount > 25,000)."
   ]
  },
  {
   "cell_type": "markdown",
   "id": "a64c2223",
   "metadata": {},
   "source": [
    "### Mean:"
   ]
  },
  {
   "cell_type": "code",
   "execution_count": 195,
   "id": "42ca0bda",
   "metadata": {},
   "outputs": [
    {
     "data": {
      "text/plain": [
       "3145.128"
      ]
     },
     "execution_count": 195,
     "metadata": {},
     "output_type": "execute_result"
    }
   ],
   "source": [
    "shoes_df['order_amount'].mean()"
   ]
  },
  {
   "cell_type": "code",
   "execution_count": 183,
   "id": "5b42534a",
   "metadata": {},
   "outputs": [
    {
     "data": {
      "text/plain": [
       "754.0919125025085"
      ]
     },
     "execution_count": 183,
     "metadata": {},
     "output_type": "execute_result"
    }
   ],
   "source": [
    "smaller_2000_shoes_df['order_amount'].mean()"
   ]
  },
  {
   "cell_type": "code",
   "execution_count": 192,
   "id": "b83fe4e9",
   "metadata": {},
   "outputs": [
    {
     "data": {
      "text/plain": [
       "302.58051448247926"
      ]
     },
     "execution_count": 192,
     "metadata": {},
     "output_type": "execute_result"
    }
   ],
   "source": [
    "cost_under_25000_shoes_df['order_amount'].mean()"
   ]
  },
  {
   "cell_type": "markdown",
   "id": "b6a8ce1c",
   "metadata": {},
   "source": [
    "### Median:\n",
    "This should not change, but put the calculations for completion sake."
   ]
  },
  {
   "cell_type": "code",
   "execution_count": 198,
   "id": "86e6f85d",
   "metadata": {},
   "outputs": [
    {
     "data": {
      "text/plain": [
       "284.0"
      ]
     },
     "execution_count": 198,
     "metadata": {},
     "output_type": "execute_result"
    }
   ],
   "source": [
    "shoes_df['order_amount'].median()"
   ]
  },
  {
   "cell_type": "code",
   "execution_count": 196,
   "id": "a4fe0f0c",
   "metadata": {},
   "outputs": [
    {
     "data": {
      "text/plain": [
       "284.0"
      ]
     },
     "execution_count": 196,
     "metadata": {},
     "output_type": "execute_result"
    }
   ],
   "source": [
    "smaller_2000_shoes_df['order_amount'].median()"
   ]
  },
  {
   "cell_type": "code",
   "execution_count": 197,
   "id": "f7d953b7",
   "metadata": {},
   "outputs": [
    {
     "data": {
      "text/plain": [
       "284.0"
      ]
     },
     "execution_count": 197,
     "metadata": {},
     "output_type": "execute_result"
    }
   ],
   "source": [
    "cost_under_25000_shoes_df['order_amount'].median()"
   ]
  },
  {
   "cell_type": "markdown",
   "id": "8aaf87b0",
   "metadata": {},
   "source": [
    "### Mode\n",
    "This should not change, but put the calculations for completion sake."
   ]
  },
  {
   "cell_type": "code",
   "execution_count": 199,
   "id": "14b34198",
   "metadata": {},
   "outputs": [
    {
     "data": {
      "text/plain": [
       "0    153\n",
       "dtype: int64"
      ]
     },
     "execution_count": 199,
     "metadata": {},
     "output_type": "execute_result"
    }
   ],
   "source": [
    "shoes_df['order_amount'].mode()"
   ]
  },
  {
   "cell_type": "code",
   "execution_count": 200,
   "id": "89b1e675",
   "metadata": {},
   "outputs": [
    {
     "data": {
      "text/plain": [
       "0    153\n",
       "dtype: int64"
      ]
     },
     "execution_count": 200,
     "metadata": {},
     "output_type": "execute_result"
    }
   ],
   "source": [
    "smaller_2000_shoes_df['order_amount'].mode()"
   ]
  },
  {
   "cell_type": "code",
   "execution_count": 201,
   "id": "78634584",
   "metadata": {},
   "outputs": [
    {
     "data": {
      "text/plain": [
       "0    153\n",
       "dtype: int64"
      ]
     },
     "execution_count": 201,
     "metadata": {},
     "output_type": "execute_result"
    }
   ],
   "source": [
    "cost_under_25000_shoes_df['order_amount'].mode()"
   ]
  },
  {
   "cell_type": "markdown",
   "id": "17282a48",
   "metadata": {},
   "source": [
    "### Summary of Part b):\n",
    "\n",
    "The metrics to choose from are mean, median, and mode for AOV. Traditionally, AOV uses the arithmetic mean (https://www.bigcommerce.com/ecommerce-answers/what-average-order-value/). Through a source (https://www.shopify.ca/blog/average-order-value) I have found it is important to consider all 3 metrics when looking at improving e-commerce conversions. The mean was calculated with 3 different datasets; first looked at no data points removed (mean of 3145.13) , second remove the 17 cases of total_items in order being 2,000 (mean of $754.09), and third on top of the total orders of 2000 there were also orders which had only several items that were valued at over 25,000. This last case seemed like some error, so these were removed.  In this last case, we can see the adjusted mean (when outliers are removed both for high total_items and high order_amount) is: 302.58, whereas the median is 284.0 and the mode is 153. All of these give different facts about what it means for the shoe sales. The mean will give you the classic average of sales, but it is more easily swayed by extremes. The median will give you the middle value of orders, which is better for skewed data. As two of the metrics  are close together it would be reasonable to take the classic AOV definition of 302.58. One good point of several articles read was that if the point of the AOV is to figure out a price point for free shipping it would be a good idea to go with the mode for the company on its own to increase the more frequently bought items. However, since this is not about any one specific store but rather 100 shoes stores run through Shopify, I would use the adjusted mean for the calculation of AOV.\n",
    "\n",
    "*Note: this is also found in the PDF document but was put here for ease of reading and not flipping between pages*"
   ]
  },
  {
   "cell_type": "markdown",
   "id": "c60d8540",
   "metadata": {},
   "source": [
    "### Conclusion (Part C)\n",
    "\n",
    "Given the fact that we are looking at multiple shoe stores (not just one), the mean and median are close, and the final dataset removed the data that <u>seems</u> (with the information given) unreasonable: the adjusted mean of 302.58 should be used for AOV."
   ]
  }
 ],
 "metadata": {
  "kernelspec": {
   "display_name": "Python 3 (ipykernel)",
   "language": "python",
   "name": "python3"
  },
  "language_info": {
   "codemirror_mode": {
    "name": "ipython",
    "version": 3
   },
   "file_extension": ".py",
   "mimetype": "text/x-python",
   "name": "python",
   "nbconvert_exporter": "python",
   "pygments_lexer": "ipython3",
   "version": "3.9.10"
  }
 },
 "nbformat": 4,
 "nbformat_minor": 5
}
